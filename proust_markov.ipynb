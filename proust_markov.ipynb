{
 "cells": [
  {
   "cell_type": "code",
   "execution_count": 1,
   "metadata": {},
   "outputs": [],
   "source": [
    "import pandas as pd\n",
    "import numpy as np\n",
    "import seaborn as sns\n",
    "import matplotlib.pyplot as plt\n",
    "import requests\n",
    "from bs4 import BeautifulSoup\n",
    "from nltk import RegexpTokenizer\n",
    "import re"
   ]
  },
  {
   "cell_type": "code",
   "execution_count": 16,
   "metadata": {},
   "outputs": [],
   "source": [
    "html = requests.get('https://www.gutenberg.org/files/4300/4300-h/4300-h.htm')"
   ]
  },
  {
   "cell_type": "code",
   "execution_count": 17,
   "metadata": {},
   "outputs": [],
   "source": [
    "soup = BeautifulSoup(html.content, 'html.parser')"
   ]
  },
  {
   "cell_type": "code",
   "execution_count": 20,
   "metadata": {},
   "outputs": [],
   "source": [
    "book = ' '.join([i.text for i in soup.findAll('p')])\n",
    "    "
   ]
  },
  {
   "cell_type": "code",
   "execution_count": 21,
   "metadata": {},
   "outputs": [
    {
     "data": {
      "text/plain": [
       "'  \\r\\nStately, plump Buck Mulligan came from the stairhead, bearing a bowl of lather\\r\\non which a mirror and a razor lay crossed. A yellow dressinggown, ungirdled,\\r\\nwas sustained gently behind him on the mild morning air. He held the bowl aloft\\r\\nand intoned:\\r\\n \\r\\n—Introibo ad altare Dei.\\r\\n \\r\\nHalted, he peered down the dark winding stairs and called out coarsely:\\r\\n \\r\\n—Come up, Kinch! Come up, you fearful jesuit!\\r\\n \\r\\nSolemnly he came forward and mounted the round gunrest. He faced about and\\r\\nblessed gravely thrice the tower, the surrounding land and the awaking\\r\\nmountains. Then, catching sight of Stephen Dedalus, he bent towards him and\\r\\nmade rapid crosses in the air, gurgling in his throat and shaking his head.\\r\\nStephen Dedalus, displeased and sleepy, leaned his arms on the top of the\\r\\nstaircase and looked coldly at the shaking gurgling face that blessed him,\\r\\nequine in its length, and at the light untonsured hair, grained and hued like\\r\\npale oak.\\r\\n \\r\\nBuck Mulligan peeped an instant under t'"
      ]
     },
     "execution_count": 21,
     "metadata": {},
     "output_type": "execute_result"
    }
   ],
   "source": [
    "book[:1000]"
   ]
  },
  {
   "cell_type": "code",
   "execution_count": 26,
   "metadata": {},
   "outputs": [],
   "source": [
    "clean_text = re.sub('\\n', ' ', book)\n",
    "clean_text = re.sub('\\r', ' ', clean_text)\n",
    "clean_text = re.sub('\\xa0', '', clean_text)\n",
    "# clean_text = re.sub(' +', ' ', clean_text)\n",
    "# clean_text = re.sub('â\\x80\\x9d', ' ', clean_text)\n",
    "# clean_text = re.sub('â\\x80\\x9c', ' ', clean_text)\n",
    "# clean_text = re.sub('â\\x80\\x99m', ' ', clean_text)\n",
    "# clean_text = re.sub('â\\x80\\x99', ' ', clean_text)\n",
    "# clean_text = re.sub('â\\x80\\x98', ' ', clean_text)\n",
    "# clean_text = re.sub('â\\x80\\x94', ' ', clean_text)\n",
    "# â\\x80\\x94 between which so many days have ranged themselves â\\x80\\x94"
   ]
  },
  {
   "cell_type": "code",
   "execution_count": 2,
   "metadata": {},
   "outputs": [],
   "source": [
    "tokenizer = RegexpTokenizer(r'\\w+')"
   ]
  },
  {
   "cell_type": "code",
   "execution_count": null,
   "metadata": {},
   "outputs": [],
   "source": []
  }
 ],
 "metadata": {
  "kernelspec": {
   "display_name": "Python 3",
   "language": "python",
   "name": "python3"
  },
  "language_info": {
   "codemirror_mode": {
    "name": "ipython",
    "version": 3
   },
   "file_extension": ".py",
   "mimetype": "text/x-python",
   "name": "python",
   "nbconvert_exporter": "python",
   "pygments_lexer": "ipython3",
   "version": "3.7.7"
  },
  "toc": {
   "base_numbering": 1,
   "nav_menu": {},
   "number_sections": true,
   "sideBar": true,
   "skip_h1_title": false,
   "title_cell": "Table of Contents",
   "title_sidebar": "Contents",
   "toc_cell": false,
   "toc_position": {},
   "toc_section_display": true,
   "toc_window_display": false
  }
 },
 "nbformat": 4,
 "nbformat_minor": 4
}
