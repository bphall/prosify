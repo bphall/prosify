{
 "cells": [
  {
   "cell_type": "code",
   "execution_count": 9,
   "metadata": {},
   "outputs": [],
   "source": [
    "import pandas as pd\n",
    "import numpy as np\n",
    "import seaborn as sns\n",
    "import matplotlib.pyplot as plt\n",
    "import requests\n",
    "from bs4 import BeautifulSoup\n",
    "from nltk.tokenize.regexp import regexp_tokenize\n",
    "import re\n",
    "import markovify"
   ]
  },
  {
   "cell_type": "markdown",
   "metadata": {},
   "source": [
    "# Scraper"
   ]
  },
  {
   "cell_type": "code",
   "execution_count": null,
   "metadata": {},
   "outputs": [],
   "source": []
  },
  {
   "cell_type": "code",
   "execution_count": null,
   "metadata": {},
   "outputs": [],
   "source": []
  },
  {
   "cell_type": "code",
   "execution_count": 2,
   "metadata": {},
   "outputs": [],
   "source": [
    "# html = requests.get('https://www.gutenberg.org/files/4300/4300-h/4300-h.htm')"
   ]
  },
  {
   "cell_type": "code",
   "execution_count": 3,
   "metadata": {},
   "outputs": [],
   "source": [
    "# soup = BeautifulSoup(html.content, 'html.parser')"
   ]
  },
  {
   "cell_type": "code",
   "execution_count": 4,
   "metadata": {},
   "outputs": [],
   "source": [
    "# book = ' '.join([i.text for i in soup.findAll('p')])"
   ]
  },
  {
   "cell_type": "code",
   "execution_count": 27,
   "metadata": {},
   "outputs": [],
   "source": [
    "# with open('ulysses.txt', 'w') as f:\n",
    "#     f.write(clean_text)"
   ]
  },
  {
   "cell_type": "code",
   "execution_count": 32,
   "metadata": {},
   "outputs": [],
   "source": [
    "text = open(\"ulysses.txt\", \"r\").read()\n",
    "\n",
    "# Build the model.\n",
    "text_model = markovify.Text(text)"
   ]
  },
  {
   "cell_type": "code",
   "execution_count": 34,
   "metadata": {},
   "outputs": [
    {
     "name": "stdout",
     "output_type": "stream",
     "text": [
      "Then walking slowly forward over the skin, better than he forgot that he was as yet all that part?\n",
      "The maids of honour, Miss Larch Conifer and Miss Spruce Conifer, sisters of charity and held for awhile the wings of one of your twofaced things, too sweet to be made known.\n",
      "Lotty Clarke, flaxenhaired, I saw the tightened features strain.\n",
      "The youth who could give the original, shoulders, back, all the fine eyes peeling a switch attack me in the honourablest manner.\n",
      "NOSEY FLYNN: Give us a French triangle.\n"
     ]
    }
   ],
   "source": [
    "# Print five randomly-generated sentences\n",
    "for i in range(5):\n",
    "    print(text_model.make_sentence())"
   ]
  },
  {
   "cell_type": "code",
   "execution_count": 37,
   "metadata": {},
   "outputs": [
    {
     "name": "stdout",
     "output_type": "stream",
     "text": [
      "And then the friends of the tide all swamping in floods in through pleading her belly, and now hes going about that would get played out pretty quick.\n",
      "There’s the man Piper met in Clamart woods, brandishing a dogwhip in tallyho cap and an uncle a judge and jury. —Was it you want to be in the hour of night.\n",
      "He scratched imprecisely with his brush? —Soot’s luck, says Joe. —Friend of yours, says Alf.\n",
      "The priest went along Wellington quay by the edge of the college.\n",
      "And, faith, he filled his own grandfather, the father of thousands, hundreds of times you think his face was told in court dress, wearing a brooch for Lord knows after the drop and choke him properly and then he starts taking off the plate, man!\n",
      "Crumbs adhered to the citizens of Dublin from the idle shells to the land and seafloor nine years had long outwandered.\n",
      "He burst her way along.\n",
      "He told me her old father that’s dead to tell her not to be blooded.\n",
      "I wanted to touch the hem with tasselled selvedge, and cools herself flirting a black the last time she turned to Stephen: —He knows you.\n",
      "J. J. O’Molloy said quietly, just like a pickaxe.\n"
     ]
    }
   ],
   "source": [
    "for i in range(10):\n",
    "    print(text_model.make_sentence())"
   ]
  },
  {
   "cell_type": "code",
   "execution_count": 35,
   "metadata": {},
   "outputs": [
    {
     "name": "stdout",
     "output_type": "stream",
     "text": [
      "Putting up in his jacket pockets forgot to lock it up the stairs I loved dancing about in the royal Irish constabulary, were making frank use of dogvans and goatvans for the moment, how much did I show you.\n",
      "It’s a good part of the spectre.\n",
      "Mass seems to me, sergeant.\n"
     ]
    }
   ],
   "source": [
    "# Print three randomly-generated sentences of no more than 280 characters\n",
    "for i in range(3):\n",
    "    print(text_model.make_short_sentence(280))"
   ]
  },
  {
   "cell_type": "markdown",
   "metadata": {},
   "source": [
    "# In Case of Tokenizing"
   ]
  },
  {
   "cell_type": "code",
   "execution_count": 26,
   "metadata": {},
   "outputs": [],
   "source": [
    "clean_text = re.sub('\\n', ' ', book)\n",
    "clean_text = re.sub('\\r', ' ', clean_text)\n",
    "clean_text = re.sub('\\xa0', '', clean_text)\n",
    "clean_text = re.sub(' +', ' ', clean_text)\n",
    "clean_text = re.sub('-', '', clean_text)"
   ]
  },
  {
   "cell_type": "code",
   "execution_count": 28,
   "metadata": {},
   "outputs": [],
   "source": [
    "def tokenizer(text):\n",
    "    words = regexp_tokenize(text, pattern='\\s+', gaps=True)\n",
    "    return words"
   ]
  }
 ],
 "metadata": {
  "kernelspec": {
   "display_name": "markov",
   "language": "python",
   "name": "markov"
  },
  "language_info": {
   "codemirror_mode": {
    "name": "ipython",
    "version": 3
   },
   "file_extension": ".py",
   "mimetype": "text/x-python",
   "name": "python",
   "nbconvert_exporter": "python",
   "pygments_lexer": "ipython3",
   "version": "3.7.7"
  },
  "toc": {
   "base_numbering": 1,
   "nav_menu": {},
   "number_sections": true,
   "sideBar": true,
   "skip_h1_title": false,
   "title_cell": "Table of Contents",
   "title_sidebar": "Contents",
   "toc_cell": false,
   "toc_position": {},
   "toc_section_display": true,
   "toc_window_display": false
  }
 },
 "nbformat": 4,
 "nbformat_minor": 4
}
